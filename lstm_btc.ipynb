{
 "cells": [
  {
   "cell_type": "markdown",
   "metadata": {
    "id": "g7FGJSCB5ZZK"
   },
   "source": [
    "This is a simple LSTM test with the goal to train to predict a sine wave using PyTorch."
   ]
  },
  {
   "cell_type": "code",
   "execution_count": 79,
   "metadata": {
    "executionInfo": {
     "elapsed": 252,
     "status": "ok",
     "timestamp": 1690375913098,
     "user": {
      "displayName": "Davide Pasca",
      "userId": "15895349759666062266"
     },
     "user_tz": -540
    },
    "id": "ARXyPlVM8wWK"
   },
   "outputs": [],
   "source": [
    "# Created by Davide Pasca - 2023/07/25"
   ]
  },
  {
   "cell_type": "code",
   "execution_count": 80,
   "metadata": {
    "executionInfo": {
     "elapsed": 6,
     "status": "ok",
     "timestamp": 1690375913469,
     "user": {
      "displayName": "Davide Pasca",
      "userId": "15895349759666062266"
     },
     "user_tz": -540
    },
    "id": "L5T3Be375vAX"
   },
   "outputs": [],
   "source": [
    "# This is specific to Google Colab, so that the notebook runs in the\n",
    "#  right directory where the data is\n",
    "import os\n",
    "\n",
    "def is_colab():\n",
    "  try:\n",
    "    import google.colab\n",
    "    return True\n",
    "  except ImportError:\n",
    "    return False\n",
    "\n",
    "if is_colab():\n",
    "  repo = 'dpasca-pytorch-examples'\n",
    "  full_path = f'/content/drive/MyDrive/dev/repos/{repo}'\n",
    "\n",
    "  if os.getcwd() != full_path:\n",
    "    from google.colab import drive\n",
    "    drive.mount('/content/drive')\n",
    "    %cd {full_path}\n",
    "\n",
    "  %pwd"
   ]
  },
  {
   "cell_type": "code",
   "execution_count": 81,
   "metadata": {
    "executionInfo": {
     "elapsed": 5,
     "status": "ok",
     "timestamp": 1690375913469,
     "user": {
      "displayName": "Davide Pasca",
      "userId": "15895349759666062266"
     },
     "user_tz": -540
    },
    "id": "pKZYQueJ5ZZL"
   },
   "outputs": [],
   "source": [
    "import torch\n",
    "import torch.nn as nn\n",
    "import torch.optim as optim\n",
    "import math\n",
    "import numpy as np\n",
    "import matplotlib.pyplot as plt\n",
    "from IPython.display import clear_output"
   ]
  },
  {
   "cell_type": "code",
   "execution_count": 82,
   "metadata": {
    "colab": {
     "base_uri": "https://localhost:8080/"
    },
    "executionInfo": {
     "elapsed": 5,
     "status": "ok",
     "timestamp": 1690375913469,
     "user": {
      "displayName": "Davide Pasca",
      "userId": "15895349759666062266"
     },
     "user_tz": -540
    },
    "id": "ghXBgRoI5ZZM",
    "outputId": "d770bc45-ed58-46ce-9fd2-127dc0ac6f96"
   },
   "outputs": [
    {
     "output_type": "stream",
     "name": "stdout",
     "text": [
      "Using device: cuda\n"
     ]
    }
   ],
   "source": [
    "device = \"cpu\"\n",
    "if torch.cuda.is_available():\n",
    "    device = \"cuda\"\n",
    "elif torch.backends.mps.is_available():\n",
    "    device = \"mps\"\n",
    "\n",
    "print(\"Using device:\", device)"
   ]
  },
  {
   "cell_type": "code",
   "execution_count": 83,
   "metadata": {
    "colab": {
     "base_uri": "https://localhost:8080/"
    },
    "executionInfo": {
     "elapsed": 4,
     "status": "ok",
     "timestamp": 1690375913469,
     "user": {
      "displayName": "Davide Pasca",
      "userId": "15895349759666062266"
     },
     "user_tz": -540
    },
    "id": "fMJZup2A5ZZN",
    "outputId": "ee67d5d0-1f8d-4d50-ab0e-aca657ca74c3"
   },
   "outputs": [
    {
     "output_type": "stream",
     "name": "stdout",
     "text": [
      "SAMPLE_SIZE_MINS: 360 (6 hours)\n",
      "LSTM_SEQUENCE_LENGTH: 56 (14 days)\n",
      "LSTM_HIDDEN_SIZE: 28\n"
     ]
    }
   ],
   "source": [
    "# Ensure that SAMPLE_SIZE_HOURS is an integer constant\n",
    "SAMPLE_SIZE_HOURS = int(6)\n",
    "SAMPLE_SIZE_MINS = 60 * SAMPLE_SIZE_HOURS  # 6 hours\n",
    "\n",
    "USE_LOG_RETURNS = True\n",
    "# With log-returns, values tend to be very small\n",
    "# This is a reasonable scale\n",
    "NORMALIZE_SCALE = 8.0\n",
    "\n",
    "TRAIN_DATES = ['2017-01-01', '2022-12-31']\n",
    "TEST_DATES  = ['2023-01-01', '2023-07-23']\n",
    "\n",
    "LSTM_INPUT_SIZE = 1  # Only 1 feature (univariate time series data)\n",
    "#LSTM_SEQUENCE_LENGTH = SAMPLE_SIZE_MINS * 6 // 60\n",
    "LSTM_SEQUENCE_LENGTH_MINS = 14*24*60 # 14 days\n",
    "LSTM_SEQUENCE_LENGTH = LSTM_SEQUENCE_LENGTH_MINS // SAMPLE_SIZE_MINS\n",
    "LSTM_LAYERS_N = 2\n",
    "# https://www.quora.com/How-should-I-set-the-size-of-hidden-state-vector-in-LSTM-in-keras/answer/Yugandhar-Nanda\n",
    "LSTM_HIDDEN_SIZE = LSTM_SEQUENCE_LENGTH // 2\n",
    "\n",
    "print(\"SAMPLE_SIZE_MINS:\", SAMPLE_SIZE_MINS, \"(%d hours)\" % (SAMPLE_SIZE_MINS / 60))\n",
    "print(\"LSTM_SEQUENCE_LENGTH:\", LSTM_SEQUENCE_LENGTH, \"(%d days)\" % (LSTM_SEQUENCE_LENGTH_MINS / 60 / 24))\n",
    "print(\"LSTM_HIDDEN_SIZE:\", LSTM_HIDDEN_SIZE)\n",
    "\n",
    "LEARNING_RATE_ADAM = 0.001\n",
    "LEARNING_RATE_ADAGRAD = 0.01\n",
    "LEARNING_RATE_RMS_PROP = 0.0001\n",
    "LEARNING_RATE_SGD = 0.01\n",
    "LEARNING_RATE_RADAM = 0.001\n",
    "LEARNING_RATE_ADAMW = 0.0025\n",
    "\n",
    "# L2 regularization\n",
    "L2_WEIGHT_DECAY = 0*0.0001\n",
    "\n",
    "# L1 regularization\n",
    "L1_REG_LAMBDA = 0.000005\n",
    "\n",
    "# Dropout probability (0 = no dropout)\n",
    "# This randomly resets some neurons\n",
    "DROPOUT_P = 0.0 # 0.05 # 0.1\n",
    "\n",
    "EPOCHS_N = 50000"
   ]
  },
  {
   "cell_type": "code",
   "execution_count": 84,
   "metadata": {
    "executionInfo": {
     "elapsed": 4,
     "status": "ok",
     "timestamp": 1690375913470,
     "user": {
      "displayName": "Davide Pasca",
      "userId": "15895349759666062266"
     },
     "user_tz": -540
    },
    "id": "jP6IDGbo5ZZN"
   },
   "outputs": [],
   "source": [
    "def normalizeVal(val):\n",
    "    return val * NORMALIZE_SCALE\n",
    "\n",
    "def denormalizeVal(val):\n",
    "    return val / NORMALIZE_SCALE\n",
    "\n",
    "def generate_sine_wave(samplesN: int, frequency: float, minVal: float, maxVal: float) -> torch.Tensor:\n",
    "    amp = (maxVal - minVal) / 2.0\n",
    "    wave = [float(amp * (math.sin(2.0 * math.pi * frequency * i) + 1.0) + minVal) for i in range(samplesN)]\n",
    "    return torch.tensor(wave)\n",
    "\n",
    "def safeLog(vals: torch.Tensor) -> torch.Tensor:\n",
    "    return torch.where(vals > 0, torch.log(vals), torch.tensor(0.0))\n",
    "\n",
    "def make_input_data(vals: torch.Tensor) -> torch.Tensor:\n",
    "    data = torch.empty_like(vals)  # create an empty tensor of the same size\n",
    "    if USE_LOG_RETURNS:\n",
    "        data[1:] = normalizeVal(safeLog(vals[1:] / vals[:-1]))\n",
    "        data[0] = data[1]  # copy the second element to the first\n",
    "    else:\n",
    "        data = normalizeVal(vals)\n",
    "    return data\n",
    "\n",
    "def create_sequences(data, seq_len):\n",
    "    seqs_batch_n = len(data) - seq_len - 1\n",
    "    sequences = torch.empty((seqs_batch_n, seq_len, 1))\n",
    "    targets = torch.empty((seqs_batch_n, 1))\n",
    "    for i in range(seqs_batch_n):\n",
    "        sequences[i] = data[i:i + seq_len].view(seq_len, 1)\n",
    "        targets[i] = data[i + seq_len + 1]\n",
    "    return sequences, targets"
   ]
  },
  {
   "cell_type": "code",
   "execution_count": 85,
   "metadata": {
    "executionInfo": {
     "elapsed": 4,
     "status": "ok",
     "timestamp": 1690375913470,
     "user": {
      "displayName": "Davide Pasca",
      "userId": "15895349759666062266"
     },
     "user_tz": -540
    },
    "id": "PBeyvtap5ZZN"
   },
   "outputs": [],
   "source": [
    "class Network(nn.Module):\n",
    "    def __init__(self, input_size, hidden_size, layers_n, dropout_p):\n",
    "        super().__init__()\n",
    "        self.lstm = nn.LSTM(input_size, hidden_size, num_layers=layers_n, dropout=dropout_p if layers_n > 1 else 0)\n",
    "        self.dropout = nn.Dropout(dropout_p)\n",
    "        self.linear = nn.Linear(hidden_size, 1)\n",
    "\n",
    "    def forward(self, x):\n",
    "        h0 = torch.zeros(self.lstm.num_layers, x.size(1), self.lstm.hidden_size, device=x.device)\n",
    "        c0 = torch.zeros(self.lstm.num_layers, x.size(1), self.lstm.hidden_size, device=x.device)\n",
    "        out, _ = self.lstm(x, (h0, c0))\n",
    "        out = self.dropout(out.select(1, -1))  # Select the last element from the seq_len dimension and apply dropout\n",
    "        out = self.linear(out)\n",
    "        out = out.squeeze(-1)  # Squeeze the last dimension if your output size is 1\n",
    "        return out\n"
   ]
  },
  {
   "cell_type": "code",
   "execution_count": 86,
   "metadata": {
    "executionInfo": {
     "elapsed": 4,
     "status": "ok",
     "timestamp": 1690375913470,
     "user": {
      "displayName": "Davide Pasca",
      "userId": "15895349759666062266"
     },
     "user_tz": -540
    },
    "id": "YDZS4oey5ZZO"
   },
   "outputs": [],
   "source": [
    "import requests\n",
    "import json\n",
    "import time\n",
    "import datetime\n",
    "\n",
    "def get_klines_req(symbol, interval, start_time, limit=500):\n",
    "    url = 'https://api.binance.com/api/v3/klines'\n",
    "\n",
    "    # Define the parameters\n",
    "    params = {\n",
    "        'symbol': symbol,\n",
    "        'interval': interval,\n",
    "        'startTime': start_time,\n",
    "        'limit': limit\n",
    "    }\n",
    "\n",
    "    response = requests.get(url, params=params)\n",
    "    data = json.loads(response.text)\n",
    "\n",
    "    # Convert the data to a more readable format\n",
    "    readable_data = []\n",
    "    for candle in data:\n",
    "        time_stamp = time.strftime('%Y-%m-%d %H:%M:%S', time.localtime(candle[0]/1000))\n",
    "        ohlcv = candle[1:6]\n",
    "        readable_candle = [time_stamp] + ohlcv\n",
    "        readable_data.append(readable_candle)\n",
    "\n",
    "    return readable_data\n",
    "\n",
    "def get_klines(symbol, interval, start_date, end_date):\n",
    "    # Convert the start and end dates to milliseconds\n",
    "    start_time = int(start_date.timestamp() * 1000)\n",
    "    end_time = int(end_date.timestamp() * 1000)\n",
    "\n",
    "    # Fetch historical data for Bitcoin with 6 hours candles\n",
    "    btc_data = []\n",
    "    while True:\n",
    "        new_data = get_klines_req(symbol, interval, start_time)\n",
    "        if not new_data:\n",
    "            break\n",
    "        last_time = new_data[-1][0]\n",
    "        last_time_dt = datetime.datetime.strptime(last_time, '%Y-%m-%d %H:%M:%S')\n",
    "        last_time_millis = int(last_time_dt.timestamp() * 1000)\n",
    "        if last_time_millis >= end_time:\n",
    "            # Clamp candles that go beyond the end date\n",
    "            new_data = [candle for candle in new_data if int(datetime.datetime.strptime(candle[0], '%Y-%m-%d %H:%M:%S').timestamp() * 1000) < end_time]\n",
    "        btc_data += new_data\n",
    "        if last_time_millis >= end_time:\n",
    "            break\n",
    "        start_time = last_time_millis + 1\n",
    "        time.sleep(0.1)  # delay to avoid hitting rate limits\n",
    "\n",
    "    return btc_data"
   ]
  },
  {
   "cell_type": "code",
   "execution_count": 87,
   "metadata": {
    "executionInfo": {
     "elapsed": 4,
     "status": "ok",
     "timestamp": 1690375913470,
     "user": {
      "displayName": "Davide Pasca",
      "userId": "15895349759666062266"
     },
     "user_tz": -540
    },
    "id": "THMMa_Qt5ZZO"
   },
   "outputs": [],
   "source": [
    "import os\n",
    "import pickle\n",
    "\n",
    "def get_closing_prices_in_range(res : str, datesYMD : list):\n",
    "    start_YMD, end_YMD = datesYMD\n",
    "    start_date = datetime.datetime.strptime(start_YMD, '%Y-%m-%d')\n",
    "    end_date = datetime.datetime.strptime(end_YMD, '%Y-%m-%d')\n",
    "\n",
    "    # Create a cache directory if it doesn't exist\n",
    "    cache_dir = 'market_data_cache'\n",
    "    os.makedirs(cache_dir, exist_ok=True)\n",
    "\n",
    "    # Create a cache file name based on the start and end dates\n",
    "    cache_file = os.path.join(cache_dir,\n",
    "                        'btc_usdt_{}_binance_data_{}_{}.pickle'\n",
    "                        .format(res, start_YMD, end_YMD))\n",
    "\n",
    "    # Check if the cache file exists\n",
    "    if os.path.exists(cache_file):\n",
    "        # If the cache file exists, load the data from the file\n",
    "        with open(cache_file, 'rb') as f:\n",
    "            btc_data = pickle.load(f)\n",
    "    else:\n",
    "        # If the cache file doesn't exist, fetch the data and save it to the cache file\n",
    "        btc_data = get_klines('BTCUSDT', res, start_date, end_date)\n",
    "        with open(cache_file, 'wb') as f:\n",
    "            pickle.dump(btc_data, f)\n",
    "\n",
    "    return [float(candle[4]) for candle in btc_data]\n",
    "\n",
    "# Split the data into training and test sets\n",
    "resolution = str(SAMPLE_SIZE_HOURS) + 'h'\n",
    "train_prices = torch.tensor(get_closing_prices_in_range(resolution, TRAIN_DATES))\n",
    "test_prices  = torch.tensor(get_closing_prices_in_range(resolution, TEST_DATES))"
   ]
  },
  {
   "cell_type": "code",
   "execution_count": 88,
   "metadata": {
    "executionInfo": {
     "elapsed": 335,
     "status": "ok",
     "timestamp": 1690375913801,
     "user": {
      "displayName": "Davide Pasca",
      "userId": "15895349759666062266"
     },
     "user_tz": -540
    },
    "id": "9TDrCUxJ5ZZO"
   },
   "outputs": [],
   "source": [
    "torch.manual_seed(0)\n",
    "\n",
    "# Setup data for training\n",
    "train_input_data = make_input_data(train_prices)\n",
    "train_seqs, train_targets = create_sequences(train_input_data, LSTM_SEQUENCE_LENGTH)\n",
    "train_seqs = train_seqs.to(device)\n",
    "train_targets = train_targets.to(device)\n",
    "\n",
    "# Setup data for testing\n",
    "test_input_data = make_input_data(test_prices)\n",
    "test_seqs, test_targets = create_sequences(test_input_data, LSTM_SEQUENCE_LENGTH)\n",
    "test_seqs = test_seqs.to(device)\n",
    "test_targets = test_targets.to(device)"
   ]
  },
  {
   "cell_type": "code",
   "execution_count": 89,
   "metadata": {
    "executionInfo": {
     "elapsed": 3,
     "status": "ok",
     "timestamp": 1690375913801,
     "user": {
      "displayName": "Davide Pasca",
      "userId": "15895349759666062266"
     },
     "user_tz": -540
    },
    "id": "LqsSF0yO5ZZP"
   },
   "outputs": [],
   "source": [
    "# use the Xavier scaling for initialization. Very effective in this case.\n",
    "def init_weights(m):\n",
    "    if type(m) == nn.Linear:\n",
    "        nn.init.xavier_uniform_(m.weight)\n",
    "    elif type(m) == nn.LSTM:\n",
    "        for name, param in m.named_parameters():\n",
    "            if 'weight_ih' in name:\n",
    "                nn.init.xavier_uniform_(param.data)\n",
    "            elif 'weight_hh' in name:\n",
    "                nn.init.orthogonal_(param.data)\n",
    "            elif 'bias' in name:\n",
    "                param.data.fill_(0)"
   ]
  },
  {
   "cell_type": "code",
   "execution_count": 90,
   "metadata": {
    "executionInfo": {
     "elapsed": 2,
     "status": "ok",
     "timestamp": 1690375913801,
     "user": {
      "displayName": "Davide Pasca",
      "userId": "15895349759666062266"
     },
     "user_tz": -540
    },
    "id": "RAflYixoprOL"
   },
   "outputs": [],
   "source": [
    "# A class to track and plot losses during training\n",
    "# We track training and testing losses separately and plot in the same chart\n",
    "class LossTracker:\n",
    "    def __init__(self):\n",
    "        self.train_losses = []\n",
    "        self.test_losses = []\n",
    "        self.min_test_loss = 1e10\n",
    "        self.min_test_loss_epoch = 0\n",
    "\n",
    "    def add_loss(self, train_loss, test_loss):\n",
    "        self.train_losses.append(train_loss)\n",
    "        self.test_losses.append(test_loss)\n",
    "        if test_loss < self.min_test_loss:\n",
    "            self.min_test_loss = test_loss\n",
    "            self.min_test_loss_epoch = len(self.test_losses)\n",
    "\n",
    "    def plot_losses(self, ax):\n",
    "        ax.plot(self.train_losses, label='Train Loss')\n",
    "        ax.plot(self.test_losses, label='Test Loss')\n",
    "        ax.set_title('Loss History')\n",
    "        ax.legend()\n",
    "\n",
    "        # Set y-axis to logarithmic scale for loss history\n",
    "        ax.set_yscale('log')"
   ]
  },
  {
   "cell_type": "code",
   "execution_count": 91,
   "metadata": {
    "colab": {
     "base_uri": "https://localhost:8080/",
     "height": 363
    },
    "executionInfo": {
     "elapsed": 709801,
     "status": "ok",
     "timestamp": 1690376623600,
     "user": {
      "displayName": "Davide Pasca",
      "userId": "15895349759666062266"
     },
     "user_tz": -540
    },
    "id": "qLkMTWrm5ZZP",
    "outputId": "eaa60a45-d7e8-4757-f1ac-864d571a6fae"
   },
   "outputs": [
    {
     "output_type": "display_data",
     "data": {
      "text/plain": [
       "<Figure size 1200x400 with 2 Axes>"
      ],
      "image/png": "[encoded data removed]"
     },
     "metadata": {}
    },
    {
     "output_type": "stream",
     "name": "stdout",
     "text": [
      "Epoch [22000/22000], Train Loss: 0.024946630001068115, Test Loss: 0.009116965346038342, Epochs/sec: 31.36\n"
     ]
    }
   ],
   "source": [
    "torch.manual_seed(1)\n",
    "\n",
    "# Initialize the model\n",
    "net = Network(LSTM_INPUT_SIZE, LSTM_HIDDEN_SIZE, LSTM_LAYERS_N, DROPOUT_P)\n",
    "net.apply(init_weights)\n",
    "net = net.to(device)\n",
    "\n",
    "# Specify loss function and optimizer\n",
    "#optimizer = optim.Adam(net.parameters(), lr=LEARNING_RATE_ADAM, weight_decay=L2_WEIGHT_DECAY) # OK\n",
    "#optimizer = optim.Adagrad(net.parameters(), lr=LEARNING_RATE_ADAGRAD, weight_decay=L2_WEIGHT_DECAY) # OK\n",
    "#optimizer = optim.SGD(net.parameters(), lr=LEARNING_RATE_SGD, momentum=0.9, weight_decay=L2_WEIGHT_DECAY) # Wobbly\n",
    "#optimizer = optim.RMSprop(net.parameters(), lr=LEARNING_RATE_RMS_PROP, weight_decay=L2_WEIGHT_DECAY) # OK\n",
    "optimizer = optim.RAdam(net.parameters(), lr=LEARNING_RATE_RADAM, weight_decay=L2_WEIGHT_DECAY)\n",
    "#optimizer = optim.AdamW(net.parameters(), lr=LEARNING_RATE_ADAMW, weight_decay=L2_WEIGHT_DECAY)\n",
    "\n",
    "# Create the learning rate scheduler\n",
    "#scheduler = torch.optim.lr_scheduler.StepLR(optimizer, step_size=500, gamma=0.9)\n",
    "\n",
    "#loss_func = nn.L1Loss(reduction='mean')\n",
    "loss_func = nn.MSELoss(reduction='mean')\n",
    "\n",
    "# Track the loss history for both training and testing\n",
    "loss_track = LossTracker()\n",
    "\n",
    "lastDispUpdateTime = time.time()\n",
    "lastDispUpdateEpoch = 0\n",
    "\n",
    "updateLossHistStep = 10\n",
    "\n",
    "# Training loop\n",
    "for epoch in range(EPOCHS_N):\n",
    "\n",
    "    train_preds = net(train_seqs)\n",
    "    train_loss = loss_func(train_preds, train_targets.squeeze(-1))\n",
    "    optimizer.zero_grad()\n",
    "\n",
    "    # Optional L1 regularization\n",
    "    if L1_REG_LAMBDA:\n",
    "      l1_norm = sum(p.abs().sum() for p in net.parameters())\n",
    "      loss = train_loss + L1_REG_LAMBDA * l1_norm\n",
    "      loss.backward()\n",
    "    else:\n",
    "      train_loss.backward()\n",
    "\n",
    "    # gradient clipping\n",
    "    #torch.nn.utils.clip_grad_norm_(net.parameters(), max_norm=1)\n",
    "\n",
    "    optimizer.step()\n",
    "\n",
    "    # Step the scheduler\n",
    "    #scheduler.step()\n",
    "\n",
    "    isFirstOrLastEpoch = (epoch == 0 or epoch == (EPOCHS_N - 1))\n",
    "\n",
    "    if isFirstOrLastEpoch or (epoch % updateLossHistStep) == 0:\n",
    "        net.eval()  # Switch to evaluation mode\n",
    "        with torch.no_grad():\n",
    "            test_preds = net(test_seqs)\n",
    "            test_loss = loss_func(test_preds, test_targets.squeeze(-1))\n",
    "\n",
    "        loss_track.add_loss(train_loss.item(), test_loss.item())\n",
    "        net.train()  # Switch back to training mode\n",
    "\n",
    "    dispUpdateTime = time.time()\n",
    "    if isFirstOrLastEpoch or ((epoch+1) % 100) == 0 and dispUpdateTime > (lastDispUpdateTime + 5.0):\n",
    "\n",
    "        epochsPerSec = float(epoch - lastDispUpdateEpoch) / (dispUpdateTime - lastDispUpdateTime)\n",
    "        lastDispUpdateTime = dispUpdateTime\n",
    "        lastDispUpdateEpoch = epoch\n",
    "\n",
    "        net.eval()  # Switch to evaluation mode\n",
    "        test_preds_vec = []\n",
    "        for i in range(len(test_seqs)):\n",
    "            sequence = test_seqs[i].unsqueeze(0)\n",
    "            pred = net(sequence).item()\n",
    "            test_preds_vec.append(denormalizeVal(pred))\n",
    "\n",
    "        # Clear previous plots\n",
    "        clear_output(wait=True)\n",
    "\n",
    "        # Create a figure\n",
    "        fig, axs = plt.subplots(1, 2, figsize=(12,4))\n",
    "\n",
    "        # Plot the targets and predictions\n",
    "        axs[0].plot(test_targets.cpu().numpy(), label='True')\n",
    "        axs[0].plot(test_preds_vec, label='Predicted')\n",
    "        axs[0].set_title('Test Targets & Predictions')\n",
    "        axs[0].legend()\n",
    "\n",
    "        # Plot the loss history\n",
    "        loss_track.plot_losses(axs[1])\n",
    "\n",
    "        plt.tight_layout()\n",
    "        plt.show()\n",
    "\n",
    "        print(f\"Epoch [{epoch+1}/{EPOCHS_N}], Train Loss: {train_loss.item()}, Test Loss: {test_loss.item()}, Epochs/sec: {epochsPerSec:.2f}\")\n",
    "\n",
    "        net.train()  # Switch back to training mode\n"
   ]
  }
 ],
 "metadata": {
  "accelerator": "GPU",
  "colab": {
   "gpuType": "V100",
   "machine_shape": "hm",
   "provenance": []
  },
  "kernelspec": {
   "display_name": "Python 3",
   "name": "python3"
  },
  "language_info": {
   "codemirror_mode": {
    "name": "ipython",
    "version": 3
   },
   "file_extension": ".py",
   "mimetype": "text/x-python",
   "name": "python",
   "nbconvert_exporter": "python",
   "pygments_lexer": "ipython3",
   "version": "3.11.3"
  }
 },
 "nbformat": 4,
 "nbformat_minor": 0
}
